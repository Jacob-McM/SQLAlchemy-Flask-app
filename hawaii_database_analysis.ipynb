{
 "cells": [
  {
   "cell_type": "markdown",
   "id": "1e3fa85f",
   "metadata": {},
   "source": [
    "## SQLite database Analysis using SQLAlchemy & Pandas\n",
    "This notebook contains the procress of setting up an SQLAlchemy connection to the sqlite database file found in the repo. This database contains weather station data for weather stations found in Hawaii. Analysis was done to determine precipitation found during a given range of time, what the most active weather station is, and what the temperature values and statistics for that weather station are."
   ]
  },
  {
   "cell_type": "code",
   "execution_count": 1,
   "id": "868b25fc",
   "metadata": {},
   "outputs": [],
   "source": [
    "## Import Dependancies\n",
    "\n",
    "## Matplotlib visual styles, and \n",
    "from matplotlib import style\n",
    "style.use('fivethirtyeight')\n",
    "import matplotlib.pyplot as plt\n",
    "\n",
    "## SQLAlchemy imports\n",
    "import sqlalchemy\n",
    "from sqlalchemy.ext.automap import automap_base\n",
    "from sqlalchemy.orm import Session\n",
    "from sqlalchemy import create_engine, func\n",
    "\n",
    "## Additional Imports\n",
    "import numpy as np\n",
    "import pandas as pd\n",
    "import datetime as dt"
   ]
  },
  {
   "cell_type": "markdown",
   "id": "ea10310d",
   "metadata": {},
   "source": [
    "## SQLAlchemy ORM setup"
   ]
  },
  {
   "cell_type": "code",
   "execution_count": 2,
   "id": "d3205c58",
   "metadata": {},
   "outputs": [
    {
     "data": {
      "text/plain": [
       "['measurement', 'station']"
      ]
     },
     "execution_count": 2,
     "metadata": {},
     "output_type": "execute_result"
    }
   ],
   "source": [
    "## Create engine and dialect for sqlite database.\n",
    "engine = create_engine(\"sqlite:///resources/hawaii.sqlite\")\n",
    "\n",
    "## Using automap_base, create a reflection using the existing database schema from\n",
    "Base = automap_base()\n",
    "\n",
    "## reflect the tables from the engine using the automap_base setup earlier.\n",
    "Base.prepare(engine, reflect = True)\n",
    "\n",
    "## View what classes were found. These are the tables in the database.\n",
    "Base.classes.keys()"
   ]
  },
  {
   "cell_type": "code",
   "execution_count": 3,
   "id": "c626df74",
   "metadata": {},
   "outputs": [],
   "source": [
    "## Assign references to the tables for future querying.\n",
    "measurements = Base.classes.measurement\n",
    "\n",
    "stations = Base.classes.station"
   ]
  },
  {
   "cell_type": "code",
   "execution_count": 4,
   "id": "9061c875",
   "metadata": {},
   "outputs": [],
   "source": [
    "## Initiate the session \n",
    "session = Session(engine)"
   ]
  },
  {
   "cell_type": "code",
   "execution_count": 5,
   "id": "8f09bbd1",
   "metadata": {},
   "outputs": [
    {
     "data": {
      "text/plain": [
       "{'_sa_instance_state': <sqlalchemy.orm.state.InstanceState at 0x167fea87f40>,\n",
       " 'id': 1,\n",
       " 'station': 'USC00519397',\n",
       " 'prcp': 0.08,\n",
       " 'tobs': 65.0,\n",
       " 'date': '2010-01-01'}"
      ]
     },
     "execution_count": 5,
     "metadata": {},
     "output_type": "execute_result"
    }
   ],
   "source": [
    "## Observe the tables through a query. This will provide information needed for specified queries.\n",
    "measure_rows =  session.query(measurements).first()\n",
    "\n",
    "measure_rows.__dict__"
   ]
  },
  {
   "cell_type": "code",
   "execution_count": 6,
   "id": "e81fe0aa",
   "metadata": {},
   "outputs": [
    {
     "data": {
      "text/plain": [
       "{'_sa_instance_state': <sqlalchemy.orm.state.InstanceState at 0x167fea87730>,\n",
       " 'name': 'WAIKIKI 717.2, HI US',\n",
       " 'longitude': -157.8168,\n",
       " 'station': 'USC00519397',\n",
       " 'id': 1,\n",
       " 'latitude': 21.2716,\n",
       " 'elevation': 3.0}"
      ]
     },
     "execution_count": 6,
     "metadata": {},
     "output_type": "execute_result"
    }
   ],
   "source": [
    "station_rows =  session.query(stations).first()\n",
    "station_rows.__dict__"
   ]
  },
  {
   "cell_type": "markdown",
   "id": "ea15082c",
   "metadata": {},
   "source": [
    "## Analysis 1: Date Specific Precipitation\n",
    "This section of analysis will build information in order to query the database based on the most recent date in found in the databse. From this date, this section analyzes the past one year of precipitation data in the database."
   ]
  },
  {
   "cell_type": "code",
   "execution_count": 7,
   "id": "75a36b09",
   "metadata": {},
   "outputs": [],
   "source": [
    "## Query to find the most recent date. The resulting date is then cleaned for calculation.\n",
    "recent_date = session.query(measurements.date).\\\n",
    "order_by(measurements.date.desc()).first()\n",
    "\n",
    "date_str = str(recent_date)\n",
    "\n",
    "start_date = date_str.translate({ord(n): None for n in \"(,)''\"})"
   ]
  },
  {
   "cell_type": "code",
   "execution_count": 8,
   "id": "b6fed280",
   "metadata": {},
   "outputs": [
    {
     "name": "stdout",
     "output_type": "stream",
     "text": [
      "One year from 2017-08-23 is 2016-08-23\n"
     ]
    }
   ],
   "source": [
    "# Calculate the date one year from the most recent date in database. \n",
    "start =  dt.datetime.strptime(start_date,'%Y-%m-%d')\n",
    "\n",
    "year = dt.timedelta(days=365)\n",
    "\n",
    "## Since we know the timedelta is 365, we can use that to find the missing expression, the delta2.\n",
    "## (Delta1(start) - Delta2(end) = Timedelta(365)). \n",
    "end = start - year\n",
    "\n",
    "end = dt.datetime.strftime(end,'%Y-%m-%d')\n",
    "\n",
    "print(f'One year from {start_date} is {end}')"
   ]
  },
  {
   "cell_type": "code",
   "execution_count": 9,
   "id": "1625e6aa",
   "metadata": {},
   "outputs": [],
   "source": [
    "## Query the date and prcp results within the date range. This can be accomplished with one query.\n",
    "## But at my current skill level/knowledge doing two queries made creating a DataFrame more convenient.  \n",
    "date_results = session.query(measurements.date).\\\n",
    "filter(func.strftime(\"%Y-%m-%d\",measurements.date) >= end).all()\n",
    "\n",
    "prcp_results = session.query(measurements.prcp).\\\n",
    "filter(func.strftime(\"%Y-%m-%d\",measurements.date) >= end).all()"
   ]
  },
  {
   "cell_type": "code",
   "execution_count": 10,
   "id": "75904476",
   "metadata": {},
   "outputs": [
    {
     "data": {
      "text/html": [
       "<div>\n",
       "<style scoped>\n",
       "    .dataframe tbody tr th:only-of-type {\n",
       "        vertical-align: middle;\n",
       "    }\n",
       "\n",
       "    .dataframe tbody tr th {\n",
       "        vertical-align: top;\n",
       "    }\n",
       "\n",
       "    .dataframe thead th {\n",
       "        text-align: right;\n",
       "    }\n",
       "</style>\n",
       "<table border=\"1\" class=\"dataframe\">\n",
       "  <thead>\n",
       "    <tr style=\"text-align: right;\">\n",
       "      <th></th>\n",
       "      <th>percipitation</th>\n",
       "    </tr>\n",
       "    <tr>\n",
       "      <th>date</th>\n",
       "      <th></th>\n",
       "    </tr>\n",
       "  </thead>\n",
       "  <tbody>\n",
       "    <tr>\n",
       "      <th>2016-08-23</th>\n",
       "      <td>0.00</td>\n",
       "    </tr>\n",
       "    <tr>\n",
       "      <th>2016-08-23</th>\n",
       "      <td>0.00</td>\n",
       "    </tr>\n",
       "    <tr>\n",
       "      <th>2016-08-23</th>\n",
       "      <td>1.79</td>\n",
       "    </tr>\n",
       "    <tr>\n",
       "      <th>2016-08-23</th>\n",
       "      <td>0.05</td>\n",
       "    </tr>\n",
       "    <tr>\n",
       "      <th>2016-08-23</th>\n",
       "      <td>0.15</td>\n",
       "    </tr>\n",
       "    <tr>\n",
       "      <th>...</th>\n",
       "      <td>...</td>\n",
       "    </tr>\n",
       "    <tr>\n",
       "      <th>2017-08-22</th>\n",
       "      <td>0.00</td>\n",
       "    </tr>\n",
       "    <tr>\n",
       "      <th>2017-08-23</th>\n",
       "      <td>0.00</td>\n",
       "    </tr>\n",
       "    <tr>\n",
       "      <th>2017-08-23</th>\n",
       "      <td>0.00</td>\n",
       "    </tr>\n",
       "    <tr>\n",
       "      <th>2017-08-23</th>\n",
       "      <td>0.08</td>\n",
       "    </tr>\n",
       "    <tr>\n",
       "      <th>2017-08-23</th>\n",
       "      <td>0.45</td>\n",
       "    </tr>\n",
       "  </tbody>\n",
       "</table>\n",
       "<p>2230 rows × 1 columns</p>\n",
       "</div>"
      ],
      "text/plain": [
       "            percipitation\n",
       "date                     \n",
       "2016-08-23           0.00\n",
       "2016-08-23           0.00\n",
       "2016-08-23           1.79\n",
       "2016-08-23           0.05\n",
       "2016-08-23           0.15\n",
       "...                   ...\n",
       "2017-08-22           0.00\n",
       "2017-08-23           0.00\n",
       "2017-08-23           0.00\n",
       "2017-08-23           0.08\n",
       "2017-08-23           0.45\n",
       "\n",
       "[2230 rows x 1 columns]"
      ]
     },
     "execution_count": 10,
     "metadata": {},
     "output_type": "execute_result"
    }
   ],
   "source": [
    "## Dataframe creation from the results, sorting and using the date as an index.\n",
    "percip_df = pd.DataFrame({\n",
    "    'date':date_results,\n",
    "    'percipitation':prcp_results\n",
    "      })\n",
    "\n",
    "## Cleaning the outputed queries as well in anticipation for plotting.\n",
    "percip_df['date'] = percip_df['date'].astype(str)\n",
    "percip_df['date'] = percip_df['date'].str.translate({ord(n): None for n in \"(,)''\"})\n",
    "percip_df['date'] = pd.to_datetime(percip_df['date'])\n",
    "\n",
    "## Cleaning the outputed queries as well in anticipation for plotting.\n",
    "percip_df['percipitation'] = percip_df['percipitation'].astype(str)\n",
    "percip_df['percipitation'] = percip_df['percipitation'].str.translate({ord(n): None for n in \"(,)''\"})\n",
    "percip_df['percipitation'] = percip_df['percipitation'].replace('None',0)\n",
    "percip_df['percipitation'] = percip_df['percipitation'].astype(float)\n",
    "          \n",
    "percip_df = percip_df.set_index('date')\n",
    "percip_df = percip_df.sort_index()\n",
    "percip_df"
   ]
  },
  {
   "cell_type": "code",
   "execution_count": 11,
   "id": "bb07a9dd",
   "metadata": {},
   "outputs": [
    {
     "data": {
      "image/png": "[encoded data removed]",
      "text/plain": [
       "<Figure size 720x504 with 1 Axes>"
      ]
     },
     "metadata": {
      "needs_background": "light"
     },
     "output_type": "display_data"
    }
   ],
   "source": [
    "## Plot the DataFrame to visualize precipitation over time for the past year from the most recent database date.\n",
    "\n",
    "plt.figure(figsize=(10,7))\n",
    "plt.plot(percip_df)\n",
    "plt.gcf().autofmt_xdate()\n",
    "plt.ylabel('Inches')\n",
    "plt.legend(['Precipitation'])\n",
    "plt.suptitle(\"Past 12 months of Precipitation data\")\n",
    "plt.title(f\"{start} ~ {end}\")\n",
    "plt.show()"
   ]
  },
  {
   "cell_type": "code",
   "execution_count": 12,
   "id": "dd096d10",
   "metadata": {},
   "outputs": [
    {
     "data": {
      "text/html": [
       "<div>\n",
       "<style scoped>\n",
       "    .dataframe tbody tr th:only-of-type {\n",
       "        vertical-align: middle;\n",
       "    }\n",
       "\n",
       "    .dataframe tbody tr th {\n",
       "        vertical-align: top;\n",
       "    }\n",
       "\n",
       "    .dataframe thead th {\n",
       "        text-align: right;\n",
       "    }\n",
       "</style>\n",
       "<table border=\"1\" class=\"dataframe\">\n",
       "  <thead>\n",
       "    <tr style=\"text-align: right;\">\n",
       "      <th></th>\n",
       "      <th>percipitation</th>\n",
       "    </tr>\n",
       "  </thead>\n",
       "  <tbody>\n",
       "    <tr>\n",
       "      <th>count</th>\n",
       "      <td>2230.000000</td>\n",
       "    </tr>\n",
       "    <tr>\n",
       "      <th>mean</th>\n",
       "      <td>0.160664</td>\n",
       "    </tr>\n",
       "    <tr>\n",
       "      <th>std</th>\n",
       "      <td>0.442067</td>\n",
       "    </tr>\n",
       "    <tr>\n",
       "      <th>min</th>\n",
       "      <td>0.000000</td>\n",
       "    </tr>\n",
       "    <tr>\n",
       "      <th>25%</th>\n",
       "      <td>0.000000</td>\n",
       "    </tr>\n",
       "    <tr>\n",
       "      <th>50%</th>\n",
       "      <td>0.010000</td>\n",
       "    </tr>\n",
       "    <tr>\n",
       "      <th>75%</th>\n",
       "      <td>0.110000</td>\n",
       "    </tr>\n",
       "    <tr>\n",
       "      <th>max</th>\n",
       "      <td>6.700000</td>\n",
       "    </tr>\n",
       "  </tbody>\n",
       "</table>\n",
       "</div>"
      ],
      "text/plain": [
       "       percipitation\n",
       "count    2230.000000\n",
       "mean        0.160664\n",
       "std         0.442067\n",
       "min         0.000000\n",
       "25%         0.000000\n",
       "50%         0.010000\n",
       "75%         0.110000\n",
       "max         6.700000"
      ]
     },
     "execution_count": 12,
     "metadata": {},
     "output_type": "execute_result"
    }
   ],
   "source": [
    "## View summary statistics\n",
    "percip_df.describe()"
   ]
  },
  {
   "cell_type": "code",
   "execution_count": 13,
   "id": "73972a54",
   "metadata": {},
   "outputs": [
    {
     "data": {
      "text/html": [
       "<div>\n",
       "<style scoped>\n",
       "    .dataframe tbody tr th:only-of-type {\n",
       "        vertical-align: middle;\n",
       "    }\n",
       "\n",
       "    .dataframe tbody tr th {\n",
       "        vertical-align: top;\n",
       "    }\n",
       "\n",
       "    .dataframe thead th {\n",
       "        text-align: right;\n",
       "    }\n",
       "</style>\n",
       "<table border=\"1\" class=\"dataframe\">\n",
       "  <thead>\n",
       "    <tr style=\"text-align: right;\">\n",
       "      <th></th>\n",
       "      <th>percipitation</th>\n",
       "    </tr>\n",
       "  </thead>\n",
       "  <tbody>\n",
       "    <tr>\n",
       "      <th>mean</th>\n",
       "      <td>0.160664</td>\n",
       "    </tr>\n",
       "    <tr>\n",
       "      <th>median</th>\n",
       "      <td>0.010000</td>\n",
       "    </tr>\n",
       "    <tr>\n",
       "      <th>var</th>\n",
       "      <td>0.195423</td>\n",
       "    </tr>\n",
       "    <tr>\n",
       "      <th>std</th>\n",
       "      <td>0.442067</td>\n",
       "    </tr>\n",
       "    <tr>\n",
       "      <th>sem</th>\n",
       "      <td>0.009361</td>\n",
       "    </tr>\n",
       "  </tbody>\n",
       "</table>\n",
       "</div>"
      ],
      "text/plain": [
       "        percipitation\n",
       "mean         0.160664\n",
       "median       0.010000\n",
       "var          0.195423\n",
       "std          0.442067\n",
       "sem          0.009361"
      ]
     },
     "execution_count": 13,
     "metadata": {},
     "output_type": "execute_result"
    }
   ],
   "source": [
    "percip_df.agg(['mean','median','var','std','sem'])"
   ]
  },
  {
   "cell_type": "markdown",
   "id": "df14b6e4",
   "metadata": {},
   "source": [
    "## Analysis 2: Station-wise data\n",
    "This section of analysis looks at station specific temperature data. The most active station is queried, and that station is used as the basis for data analysis."
   ]
  },
  {
   "cell_type": "code",
   "execution_count": 14,
   "id": "7fcec3a5",
   "metadata": {},
   "outputs": [
    {
     "name": "stdout",
     "output_type": "stream",
     "text": [
      "There are no null values\n"
     ]
    }
   ],
   "source": [
    "## Query that finds how many unique stations\n",
    "unique_station = session.query(func.count(stations.station)).all()\n",
    "\n",
    "## Query that finds EVERY report of a stations data and counts\n",
    "every_station = session.query(func.count(measurements.station)).all()\n",
    "\n",
    "## If Else statement that checks for null datapoints in the databases precipitation column. As the is_not function\n",
    "## returns a bool dependant on if it found a null value, if it is True we can say we have an accurate count that does not\n",
    "## contain any stations that have no data entry. Visually, you can see what this accomplishes from the print statement below.\n",
    "\n",
    "null_datapoint = session.query(func.count(measurements.station).\\\n",
    "                               filter(measurements.prcp >= 0).\\\n",
    "                               is_not(None)).all()\n",
    "if null_datapoint == [(True,)]:\n",
    "    print('There are no null values')\n",
    "    notNull_datapoint = session.query(func.count(measurements.station).\\\n",
    "                                      filter(measurements.prcp >= 0)).all()\n",
    "else:\n",
    "    print('There are null values')"
   ]
  },
  {
   "cell_type": "code",
   "execution_count": 15,
   "id": "1ac451d6",
   "metadata": {},
   "outputs": [
    {
     "name": "stdout",
     "output_type": "stream",
     "text": [
      "The number of unique station IDs is (9,)\n",
      "The number of station datapoints in the dataset is (19550,)\n",
      "The number of datapoints not null is (18103,)\n"
     ]
    }
   ],
   "source": [
    "## As a result of the If Else statement above, which contains a query that specifically looks for stations that reported a\n",
    "## precipitaiton of 0 or greater. As negative precipitation can only be observed as a timewise average, filtering in this way\n",
    "## accomplishes the goal of not seeing any null datapoints. \n",
    "\n",
    "print(f'The number of unique station IDs is {unique_station[0]}')\n",
    "print(f'The number of station datapoints in the dataset is {every_station[0]}')\n",
    "print(f'The number of datapoints not null is {notNull_datapoint[0]}')"
   ]
  },
  {
   "cell_type": "code",
   "execution_count": 16,
   "id": "13b14519",
   "metadata": {},
   "outputs": [
    {
     "data": {
      "text/plain": [
       "[('USC00511918', 1979),\n",
       " ('USC00513117', 2709),\n",
       " ('USC00514830', 2202),\n",
       " ('USC00516128', 2612),\n",
       " ('USC00517948', 1372),\n",
       " ('USC00518838', 511),\n",
       " ('USC00519281', 2772),\n",
       " ('USC00519397', 2724),\n",
       " ('USC00519523', 2669)]"
      ]
     },
     "execution_count": 16,
     "metadata": {},
     "output_type": "execute_result"
    }
   ],
   "source": [
    "## Query that finds the most active station\n",
    "session.query(measurements.station, func.count(measurements.id)).\\\n",
    "    group_by(measurements.station).all()"
   ]
  },
  {
   "cell_type": "code",
   "execution_count": 17,
   "id": "e6569f74",
   "metadata": {},
   "outputs": [
    {
     "data": {
      "text/plain": [
       "[('USC00519281', 2772),\n",
       " ('USC00513117', 2709),\n",
       " ('USC00519397', 2724),\n",
       " ('USC00519523', 2669),\n",
       " ('USC00516128', 2612),\n",
       " ('USC00514830', 2202),\n",
       " ('USC00511918', 1979),\n",
       " ('USC00517948', 1372),\n",
       " ('USC00518838', 511)]"
      ]
     },
     "execution_count": 17,
     "metadata": {},
     "output_type": "execute_result"
    }
   ],
   "source": [
    "## Query that is sorted and assigned so it can be referenced. \n",
    "station_counts = session.query(measurements.station, func.count(measurements.id)).\\\n",
    "    group_by(measurements.station).\\\n",
    "    order_by(func.count(measurements.prcp).desc()).all()\n",
    "station_counts"
   ]
  },
  {
   "cell_type": "code",
   "execution_count": 18,
   "id": "e5b3548e",
   "metadata": {},
   "outputs": [
    {
     "data": {
      "text/plain": [
       "'USC00519281'"
      ]
     },
     "execution_count": 18,
     "metadata": {},
     "output_type": "execute_result"
    }
   ],
   "source": [
    "## Clean the most active staitons data in anticipation for dynamic query.\n",
    "## Dynamic query meaning that the station is not input statically, and can be updated with new data.\n",
    "\n",
    "most_active = str(station_counts[0])\n",
    "active_station = most_active.split(',')[0]\n",
    "active_station = active_station.translate({ord(n): None for n in \"(,)''\"})\n",
    "active_station"
   ]
  },
  {
   "cell_type": "code",
   "execution_count": 19,
   "id": "526519ed",
   "metadata": {},
   "outputs": [
    {
     "name": "stdout",
     "output_type": "stream",
     "text": [
      "The max temperature from station USC00519281 is [('USC00519281', 85.0)] \n",
      "The max temperature from station USC00519281 is [('USC00519281', 54.0)] \n",
      "The max temperature from station USC00519281 is [('USC00519281', 71.66378066378067)] \n"
     ]
    }
   ],
   "source": [
    "## Query for the average temperature results from the most active station.\n",
    "temp_results_avg = session.query(measurements.station,func.avg(measurements.tobs)).\\\n",
    "    filter(measurements.station == active_station).all()\n",
    "temp_results_avg\n",
    "\n",
    "## Query for the max temperature results from the most active station.\n",
    "temp_results_max = session.query(measurements.station,func.max(measurements.tobs)).\\\n",
    "    filter(measurements.station == active_station).all()\n",
    "temp_results_max\n",
    "\n",
    "## Query for the min temperature results from the most active station.\n",
    "temp_results_min = session.query(measurements.station,func.min(measurements.tobs)).\\\n",
    "    filter(measurements.station == active_station).all()\n",
    "temp_results_min\n",
    "\n",
    "print(f'The max temperature from station {active_station} is {temp_results_max} ')\n",
    "print(f'The max temperature from station {active_station} is {temp_results_min} ')\n",
    "print(f'The max temperature from station {active_station} is {temp_results_avg} ')"
   ]
  },
  {
   "cell_type": "code",
   "execution_count": 20,
   "id": "f28cc3d4",
   "metadata": {},
   "outputs": [
    {
     "data": {
      "text/plain": [
       "352"
      ]
     },
     "execution_count": 20,
     "metadata": {},
     "output_type": "execute_result"
    }
   ],
   "source": [
    "## Query for the past year of data available for the most active station\n",
    "temp_results = session.query(measurements.tobs).\\\n",
    "    filter(func.strftime(\"%Y-%m-%d\",measurements.date) >= end).\\\n",
    "    filter(measurements.station == active_station).all()\n",
    "## Check to see if length exceeds 365. Since each day has at most 1 recording, this value should not exceed 365. \n",
    "len(temp_results)"
   ]
  },
  {
   "cell_type": "code",
   "execution_count": 21,
   "id": "ae616266",
   "metadata": {},
   "outputs": [
    {
     "data": {
      "text/html": [
       "<div>\n",
       "<style scoped>\n",
       "    .dataframe tbody tr th:only-of-type {\n",
       "        vertical-align: middle;\n",
       "    }\n",
       "\n",
       "    .dataframe tbody tr th {\n",
       "        vertical-align: top;\n",
       "    }\n",
       "\n",
       "    .dataframe thead th {\n",
       "        text-align: right;\n",
       "    }\n",
       "</style>\n",
       "<table border=\"1\" class=\"dataframe\">\n",
       "  <thead>\n",
       "    <tr style=\"text-align: right;\">\n",
       "      <th></th>\n",
       "      <th>temperature</th>\n",
       "    </tr>\n",
       "  </thead>\n",
       "  <tbody>\n",
       "    <tr>\n",
       "      <th>0</th>\n",
       "      <td>77.0</td>\n",
       "    </tr>\n",
       "    <tr>\n",
       "      <th>1</th>\n",
       "      <td>77.0</td>\n",
       "    </tr>\n",
       "    <tr>\n",
       "      <th>2</th>\n",
       "      <td>80.0</td>\n",
       "    </tr>\n",
       "    <tr>\n",
       "      <th>3</th>\n",
       "      <td>80.0</td>\n",
       "    </tr>\n",
       "    <tr>\n",
       "      <th>4</th>\n",
       "      <td>75.0</td>\n",
       "    </tr>\n",
       "    <tr>\n",
       "      <th>...</th>\n",
       "      <td>...</td>\n",
       "    </tr>\n",
       "    <tr>\n",
       "      <th>347</th>\n",
       "      <td>77.0</td>\n",
       "    </tr>\n",
       "    <tr>\n",
       "      <th>348</th>\n",
       "      <td>77.0</td>\n",
       "    </tr>\n",
       "    <tr>\n",
       "      <th>349</th>\n",
       "      <td>76.0</td>\n",
       "    </tr>\n",
       "    <tr>\n",
       "      <th>350</th>\n",
       "      <td>76.0</td>\n",
       "    </tr>\n",
       "    <tr>\n",
       "      <th>351</th>\n",
       "      <td>79.0</td>\n",
       "    </tr>\n",
       "  </tbody>\n",
       "</table>\n",
       "<p>352 rows × 1 columns</p>\n",
       "</div>"
      ],
      "text/plain": [
       "     temperature\n",
       "0           77.0\n",
       "1           77.0\n",
       "2           80.0\n",
       "3           80.0\n",
       "4           75.0\n",
       "..           ...\n",
       "347         77.0\n",
       "348         77.0\n",
       "349         76.0\n",
       "350         76.0\n",
       "351         79.0\n",
       "\n",
       "[352 rows x 1 columns]"
      ]
     },
     "execution_count": 21,
     "metadata": {},
     "output_type": "execute_result"
    }
   ],
   "source": [
    "## Create DataFrame for plot. Clean the data in anticipation for plotting.\n",
    "temp_df = pd.DataFrame({\n",
    "    'temperature':temp_results\n",
    "      }) \n",
    "\n",
    "temp_df['temperature'] = temp_df['temperature'].astype(str)\n",
    "temp_df['temperature'] = temp_df['temperature'].str.translate({ord(n): None for n in \"(,)''\"})\n",
    "temp_df['temperature'] = temp_df['temperature'].replace('None',0)\n",
    "temp_df['temperature'] = temp_df['temperature'].astype(float)\n",
    "          \n",
    "temp_df"
   ]
  },
  {
   "cell_type": "code",
   "execution_count": 22,
   "id": "c18f8ede",
   "metadata": {},
   "outputs": [
    {
     "data": {
      "image/png": "[encoded data removed]",
      "text/plain": [
       "<Figure size 432x288 with 1 Axes>"
      ]
     },
     "metadata": {
      "needs_background": "light"
     },
     "output_type": "display_data"
    }
   ],
   "source": [
    "## Plot a histogram to show temperature frequency observed in this station.\n",
    "\n",
    "plt.hist(x = temp_df,bins=12)\n",
    "plt.ylabel('Frequency')\n",
    "plt.xlabel('Temperature')\n",
    "plt.legend(['Observed Temp'])\n",
    "plt.title(f'Observed Temperature frequency from station {active_station}')\n",
    "plt.show()"
   ]
  },
  {
   "cell_type": "code",
   "execution_count": 23,
   "id": "32603007",
   "metadata": {},
   "outputs": [],
   "source": [
    "## Once all Queries have been made, close the session. \n",
    "session.close()"
   ]
  },
  {
   "cell_type": "code",
   "execution_count": null,
   "id": "b4283cf3",
   "metadata": {},
   "outputs": [],
   "source": []
  }
 ],
 "metadata": {
  "kernelspec": {
   "display_name": "Python 3 (ipykernel)",
   "language": "python",
   "name": "python3"
  },
  "language_info": {
   "codemirror_mode": {
    "name": "ipython",
    "version": 3
   },
   "file_extension": ".py",
   "mimetype": "text/x-python",
   "name": "python",
   "nbconvert_exporter": "python",
   "pygments_lexer": "ipython3",
   "version": "3.8.13"
  }
 },
 "nbformat": 4,
 "nbformat_minor": 5
}
